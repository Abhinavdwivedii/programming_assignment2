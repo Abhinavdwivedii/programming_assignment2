{
  "nbformat": 4,
  "nbformat_minor": 0,
  "metadata": {
    "colab": {
      "provenance": []
    },
    "kernelspec": {
      "name": "python3",
      "display_name": "Python 3"
    },
    "language_info": {
      "name": "python"
    }
  },
  "cells": [
    {
      "cell_type": "code",
      "execution_count": 1,
      "metadata": {
        "colab": {
          "base_uri": "https://localhost:8080/"
        },
        "id": "zQ3j5rzShAtz",
        "outputId": "0f3fb7ad-67aa-4442-99de-1c0a144abdc3"
      },
      "outputs": [
        {
          "output_type": "stream",
          "name": "stdout",
          "text": [
            "Enter Kilometer: 5\n",
            "Miles =  3.1\n"
          ]
        }
      ],
      "source": [
        "#Answer 1\n",
        "\n",
        "km = int(input(\"Enter Kilometer: \"))\n",
        "miles = km*0.62\n",
        "print(\"Miles = \" , miles)"
      ]
    },
    {
      "cell_type": "code",
      "source": [
        "#Answer 2\n",
        "Celsius = int(input(\"Enter Celsius : \"))\n",
        "\n",
        "fahrenheit = (Celsius * 9/5) +32\n",
        "print(fahrenheit)"
      ],
      "metadata": {
        "colab": {
          "base_uri": "https://localhost:8080/"
        },
        "id": "fX-5imFfhJze",
        "outputId": "ec095c83-e382-4e1e-e623-73d3815c351a"
      },
      "execution_count": 2,
      "outputs": [
        {
          "output_type": "stream",
          "name": "stdout",
          "text": [
            "Enter Celsius : 32\n",
            "89.6\n"
          ]
        }
      ]
    },
    {
      "cell_type": "code",
      "source": [
        "\n",
        "#Answer 3\n",
        "import calendar\n",
        "yy = int(input(\"Enter year = \"))\n",
        "mm = int(input(\"Enter month in number = \"))\n",
        "print(calendar.month(yy,mm))"
      ],
      "metadata": {
        "colab": {
          "base_uri": "https://localhost:8080/"
        },
        "id": "5Bt1r6APhM6a",
        "outputId": "c2ead157-29c2-4c46-ca20-2886947841fa"
      },
      "execution_count": 3,
      "outputs": [
        {
          "output_type": "stream",
          "name": "stdout",
          "text": [
            "Enter year = 2023\n",
            "Enter month in number = 01\n",
            "    January 2023\n",
            "Mo Tu We Th Fr Sa Su\n",
            "                   1\n",
            " 2  3  4  5  6  7  8\n",
            " 9 10 11 12 13 14 15\n",
            "16 17 18 19 20 21 22\n",
            "23 24 25 26 27 28 29\n",
            "30 31\n",
            "\n"
          ]
        }
      ]
    },
    {
      "cell_type": "code",
      "source": [
        "#Answer 4 \n",
        "# Formula:\n",
        "# x=-b+-sqrt(b**2-4ac)/2*a\n",
        "import cmath\n",
        "a=int(input(\"Enter a = \"))\n",
        "b=int(input(\"Enter b = \"))\n",
        "c=int(input(\"Enter c = \"))\n",
        "discriminant = (b**2)-(4*a*c)\n",
        "sol_one = (-b+cmath.sqrt(discriminant))/(2*a)\n",
        "sol_two = (-b-cmath.sqrt(discriminant))/(2*a)\n",
        "print(sol_one ,\",\", sol_two)"
      ],
      "metadata": {
        "colab": {
          "base_uri": "https://localhost:8080/"
        },
        "id": "Px3r5hy1hU8S",
        "outputId": "9d9abc37-d89c-45ba-cf6a-419e0297ed01"
      },
      "execution_count": 4,
      "outputs": [
        {
          "output_type": "stream",
          "name": "stdout",
          "text": [
            "Enter a = 5\n",
            "Enter b = 3\n",
            "Enter c = 1\n",
            "(-0.3+0.33166247903553997j) , (-0.3-0.33166247903553997j)\n"
          ]
        }
      ]
    },
    {
      "cell_type": "code",
      "source": [
        "#Answer 5 \n",
        "first_variable = int(input(\"First Variable =\"))\n",
        "second_variable = int(input(\"Second Variable =\"))\n",
        "print(\"First Variable Before swap  : {} \\n Second variable Before Swap  : {}\".format(first_variable,second_variable))\n",
        "first_variable , second_variable = second_variable , first_variable\n",
        "\n",
        "print(\"After Swap : \\n First Variabe : {} \\n  Second Variable : {}\".format(first_variable , second_variable))"
      ],
      "metadata": {
        "colab": {
          "base_uri": "https://localhost:8080/"
        },
        "id": "qH9vQPUJhgHa",
        "outputId": "7be9d548-5a6d-4131-e023-2e6849c25f2a"
      },
      "execution_count": 5,
      "outputs": [
        {
          "output_type": "stream",
          "name": "stdout",
          "text": [
            "First Variable =4\n",
            "Second Variable =5\n",
            "First Variable Before swap  : 4 \n",
            " Second variable Before Swap  : 5\n",
            "After Swap : \n",
            " First Variabe : 5 \n",
            "  Second Variable : 4\n"
          ]
        }
      ]
    },
    {
      "cell_type": "code",
      "source": [],
      "metadata": {
        "id": "4eiYt86yhlIS"
      },
      "execution_count": null,
      "outputs": []
    }
  ]
}